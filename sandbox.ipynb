{
 "cells": [
  {
   "cell_type": "code",
   "execution_count": 1,
   "metadata": {},
   "outputs": [],
   "source": [
    "%load_ext autoreload\n",
    "%autoreload 2"
   ]
  },
  {
   "cell_type": "code",
   "execution_count": 14,
   "metadata": {},
   "outputs": [
    {
     "name": "stdout",
     "output_type": "stream",
     "text": [
      "The dotenv extension is already loaded. To reload it, use:\n",
      "  %reload_ext dotenv\n"
     ]
    }
   ],
   "source": [
    "%load_ext dotenv\n",
    "%dotenv"
   ]
  },
  {
   "cell_type": "code",
   "execution_count": 47,
   "metadata": {},
   "outputs": [],
   "source": [
    "from bs4 import BeautifulSoup\n",
    "import requests\n",
    "import pandas as pd\n",
    "import numpy as np\n",
    "import logging\n",
    "import hashlib\n",
    "from ressources import DATA_DIR, load_text, load_json, SCRAPING_DATA_DIR, write_json\n",
    "import os\n",
    "from typing import Optional\n",
    "from parsing import (\n",
    "    extract_case, pre_process_cases, unify_law_case_dataset, extract_situation,\n",
    "    add_extracted_situation\n",
    ")\n",
    "from scenario_generator import generate_scenario_from_law_case\n",
    "logger = logging.getLogger(__name__)\n",
    "\n",
    "logging.getLogger().setLevel(logging.INFO)"
   ]
  },
  {
   "cell_type": "code",
   "execution_count": 4,
   "metadata": {},
   "outputs": [],
   "source": [
    "def md5hash(s: str): \n",
    "    return hashlib.md5(s.encode('utf-8')).hexdigest()"
   ]
  },
  {
   "cell_type": "code",
   "execution_count": 15,
   "metadata": {},
   "outputs": [],
   "source": [
    "\n"
   ]
  },
  {
   "cell_type": "code",
   "execution_count": 34,
   "metadata": {},
   "outputs": [],
   "source": []
  },
  {
   "cell_type": "code",
   "execution_count": 39,
   "metadata": {},
   "outputs": [
    {
     "data": {
      "text/plain": [
       "'A company (A.________ SA) is appealing a decision to tax the transfer of a parcel of land (parcel n° **) that was sold to them by the Swiss Federal Railways (CFF). They are asking the Federal Court to annul the decision.'"
      ]
     },
     "execution_count": 39,
     "metadata": {},
     "output_type": "execute_result"
    }
   ],
   "source": [
    "unified_law_cases = load_json(SCRAPING_DATA_DIR.joinpath('unified_law_cases.json'))\n",
    "french_cases = [v for v in unified_law_cases if v['language']=='fr']\n",
    "\n",
    "#TODO: first \n",
    "# \n",
    "\n",
    "html_text = french_cases[2]['html_content']\n",
    "\n",
    "situation = extract_situation(html_text=html_text, language='fr')\n",
    "hypothetical_scenario = generate_scenario_from_law_case(law_case=situation)\n",
    "hypothetical_scenario\n"
   ]
  },
  {
   "cell_type": "code",
   "execution_count": null,
   "metadata": {},
   "outputs": [],
   "source": [
    "# df = pd.read_parquet(DATA_DIR.joinpath('scd.parquet'))\n",
    "\n",
    "# #Join data\n",
    "\n",
    "# unified_df = unify_law_case_dataset(cases_folder=DATA_DIR.joinpath('pre_processed_law_cases'), metadata_df=df)\n",
    "# unified_df.to_json('unified_law_cases.json', indent=4, orient='records')\n",
    "\n",
    "# #Extract situation from html\n",
    "\n",
    "# unified_law_cases = load_json(SCRAPING_DATA_DIR.joinpath('unified_law_cases.json'))\n",
    "# unified_law_cases = add_extracted_situation(unified_law_cases)\n",
    "# write_json(unified_law_cases, str(SCRAPING_DATA_DIR.joinpath('unified_law_cases_v2.json')))"
   ]
  },
  {
   "cell_type": "code",
   "execution_count": 55,
   "metadata": {},
   "outputs": [],
   "source": [
    "data = load_json(SCRAPING_DATA_DIR.joinpath('generated_scenarios/scenario_enhanced_law_cases.json'))"
   ]
  },
  {
   "cell_type": "code",
   "execution_count": 56,
   "metadata": {},
   "outputs": [
    {
     "data": {
      "text/plain": [
       "2774"
      ]
     },
     "execution_count": 56,
     "metadata": {},
     "output_type": "execute_result"
    }
   ],
   "source": [
    "len([v for v in data if v['generated_scenario'] is not None])"
   ]
  },
  {
   "cell_type": "code",
   "execution_count": null,
   "metadata": {},
   "outputs": [],
   "source": []
  }
 ],
 "metadata": {
  "kernelspec": {
   "display_name": "mistral_hackathon",
   "language": "python",
   "name": "python3"
  },
  "language_info": {
   "codemirror_mode": {
    "name": "ipython",
    "version": 3
   },
   "file_extension": ".py",
   "mimetype": "text/x-python",
   "name": "python",
   "nbconvert_exporter": "python",
   "pygments_lexer": "ipython3",
   "version": "3.12.3"
  }
 },
 "nbformat": 4,
 "nbformat_minor": 2
}
