{
 "cells": [
  {
   "cell_type": "code",
   "execution_count": 1,
   "metadata": {},
   "outputs": [],
   "source": [
    "%load_ext autoreload\n",
    "%autoreload 2"
   ]
  },
  {
   "cell_type": "code",
   "execution_count": 2,
   "metadata": {},
   "outputs": [],
   "source": [
    "%load_ext dotenv\n",
    "%dotenv"
   ]
  },
  {
   "cell_type": "code",
   "execution_count": 4,
   "metadata": {},
   "outputs": [],
   "source": [
    "from bs4 import BeautifulSoup\n",
    "import requests\n",
    "import pandas as pd\n",
    "import numpy as np\n",
    "import logging\n",
    "import hashlib\n",
    "\n",
    "logging.getLogger().setLevel(logging.INFO)"
   ]
  },
  {
   "cell_type": "code",
   "execution_count": 3,
   "metadata": {},
   "outputs": [],
   "source": [
    "def md5hash(s: str): \n",
    "    return hashlib.md5(s.encode('utf-8')).hexdigest()"
   ]
  },
  {
   "cell_type": "code",
   "execution_count": 8,
   "metadata": {},
   "outputs": [],
   "source": [
    "# df = pd.read_csv('data/scd.csv')\n",
    "\n",
    "# df['id'] = df['docref'].apply(md5hash)\n",
    "# First task => read all documents\n",
    "# Potentially interesting columns\n",
    "\n",
    "#Shuffle\n",
    "#docref is unique primary key\n",
    "# url = df.iloc[0]['url']\n",
    "# requests.get(url=url).text\n",
    "\n",
    "#for loop\n",
    "\n",
    "#Multi threading choices\n",
    "# import concurrent.futures\n",
    "# import multiprocessing\n",
    "# import threading  => bad because not killable\n",
    "\n",
    "# import a\n",
    "\n",
    "# Threading\n",
    "\n",
    "# async.io => single thread, concurrency\n",
    "\n",
    "import asyncio\n",
    "\n",
    "\n",
    "\n",
    "\n",
    "from queue import Queue\n",
    "\n"
   ]
  },
  {
   "cell_type": "code",
   "execution_count": 49,
   "metadata": {},
   "outputs": [
    {
     "data": {
      "text/plain": [
       "7641"
      ]
     },
     "execution_count": 49,
     "metadata": {},
     "output_type": "execute_result"
    }
   ],
   "source": [
    "import glob\n",
    "len(glob.glob(\"data/cases/*\"))\n",
    "\n",
    "# scrape_cases(scd_filepath=\"data/scd.csv\", save_folder=\"data/usecases\")"
   ]
  },
  {
   "cell_type": "code",
   "execution_count": 31,
   "metadata": {},
   "outputs": [],
   "source": [
    "# from scrapper import scrape_html\n",
    "# df = pd.read_csv('scd.csv')\n",
    "# scrape_html(df= df, save_folder = \"cases\", start_index = 0)"
   ]
  },
  {
   "cell_type": "code",
   "execution_count": 5,
   "metadata": {},
   "outputs": [],
   "source": []
  },
  {
   "cell_type": "code",
   "execution_count": 8,
   "metadata": {},
   "outputs": [],
   "source": [
    "df = pd.read_csv('data/scd_raw.csv')\n",
    "df.to_parquet('data/scd_raw.parquet')"
   ]
  },
  {
   "cell_type": "code",
   "execution_count": null,
   "metadata": {},
   "outputs": [],
   "source": []
  }
 ],
 "metadata": {
  "kernelspec": {
   "display_name": "mistral_hackathon",
   "language": "python",
   "name": "python3"
  },
  "language_info": {
   "codemirror_mode": {
    "name": "ipython",
    "version": 3
   },
   "file_extension": ".py",
   "mimetype": "text/x-python",
   "name": "python",
   "nbconvert_exporter": "python",
   "pygments_lexer": "ipython3",
   "version": "3.12.3"
  }
 },
 "nbformat": 4,
 "nbformat_minor": 2
}
