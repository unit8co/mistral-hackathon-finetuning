{
 "cells": [
  {
   "cell_type": "code",
   "execution_count": 2,
   "metadata": {},
   "outputs": [],
   "source": [
    "import os\n",
    "import json\n",
    "from mistralai.client import MistralClient\n",
    "from mistralai.models.chat_completion import ChatMessage\n",
    "from mistralai.models.jobs import TrainingParameters\n",
    "from sklearn.metrics import ConfusionMatrixDisplay, accuracy_score\n",
    "from sklearn.model_selection import StratifiedKFold"
   ]
  },
  {
   "cell_type": "code",
   "execution_count": 3,
   "metadata": {},
   "outputs": [],
   "source": [
    "with open(\"../data/scenario_enhanced_law_cases.json\", \"r\") as f:\n",
    "    scenarios = json.load(f)\n",
    "\n",
    "scenarios = [entry for entry in scenarios if isinstance(entry[\"generated_scenario\"], str)]"
   ]
  },
  {
   "cell_type": "code",
   "execution_count": 3,
   "metadata": {},
   "outputs": [
    {
     "data": {
      "text/plain": [
       "{'Civil', 'Criminal', 'Public'}"
      ]
     },
     "execution_count": 3,
     "metadata": {},
     "output_type": "execute_result"
    }
   ],
   "source": [
    "labels = set([sce[\"division_type\"] for sce in scenarios])\n",
    "labels"
   ]
  },
  {
   "cell_type": "code",
   "execution_count": 4,
   "metadata": {},
   "outputs": [],
   "source": [
    "PROMPT_CLASSIFIER = \"\"\"You are an expert lawyer tasked with classifying various cases into three differents category based on the case's description.\n",
    "\n",
    "The possible categories values are : 'Civil', 'Criminal' or 'Public'. You must select only one of these possible values.\n",
    "\n",
    "The answer should be a json structured as follow;\n",
    "\n",
    "{'case_category': predicted category}\n",
    "\n",
    "For example:\n",
    "\n",
    "Question:\n",
    "Case description: \"Last week, I was going back home after a hard day of work and a stranger attacked me from behind, hit me one the head and stole my bag\"\n",
    "\n",
    "Answer:\n",
    "{'case_category': 'Criminal'}\n",
    "\"\"\""
   ]
  },
  {
   "cell_type": "code",
   "execution_count": 48,
   "metadata": {},
   "outputs": [],
   "source": [
    "dataset = [\n",
    "    {\n",
    "        \"messages\": [\n",
    "            {\n",
    "                \"role\": \"system\",\n",
    "                \"content\": PROMPT_CLASSIFIER\n",
    "            },\n",
    "            {\n",
    "                \"role\": \"user\",\n",
    "                \"content\": f\"Case description: {scenario['generated_scenario']}\"\n",
    "            },\n",
    "            {\n",
    "                \"role\": \"assistant\",\n",
    "                \"content\": \"{'case_category': '[LABEL]'}\".replace(\"[LABEL]\", scenario[\"division_type\"])\n",
    "            },\n",
    "        ]\n",
    "    } for scenario in scenarios\n",
    "]"
   ]
  },
  {
   "cell_type": "code",
   "execution_count": 6,
   "metadata": {},
   "outputs": [],
   "source": [
    "api_key = os.environ[\"MISTRAL_API_KEY\"]\n",
    "\n",
    "client = MistralClient(api_key=api_key)\n",
    "all_preds = {}\n",
    "for model_name in [\"mistral-large-latest\", \"mistral-small-latest\", \"open-mistral-7b\"]:\n",
    "    model_preds = []\n",
    "    for case in dataset[:100]:\n",
    "        model_preds.append(\n",
    "            client.chat(\n",
    "                model=model_name,\n",
    "                messages=[ChatMessage(role=\"system\", content=PROMPT_CLASSIFIER), ChatMessage(**case[\"messages\"][1])]\n",
    "            )\n",
    "        )\n",
    "    all_preds[model_name] = model_preds\n"
   ]
  },
  {
   "cell_type": "code",
   "execution_count": 198,
   "metadata": {},
   "outputs": [],
   "source": [
    "def parse_answer(chat_answer):\n",
    "    answer = chat_answer.choices[0].message.content\n",
    "    start_idx = answer.find(\"{\")\n",
    "    end_idx = answer.find(\"}\")+1\n",
    "    parsed = eval(answer[start_idx:end_idx])\n",
    "    if isinstance(parsed[\"case_category\"], str):\n",
    "        return parsed[\"case_category\"]\n",
    "    elif isinstance(parsed[\"case_category\"], (list, tuple)):\n",
    "        return parsed[\"case_category\"][0]\n",
    "    else:\n",
    "        return \"\"\n"
   ]
  },
  {
   "cell_type": "code",
   "execution_count": 140,
   "metadata": {},
   "outputs": [],
   "source": [
    "skf = StratifiedKFold(n_splits=5, shuffle=True, random_state=42)\n",
    "label_mapping = {\n",
    "    'Civil': 0,\n",
    "    'Public': 1,\n",
    "    'Criminal': 2,\n",
    "}\n",
    "folds = list(skf.split(dataset, [label_mapping[eval(entry[\"messages\"][-1][\"content\"])[\"case_category\"]] for entry in dataset]))[0]\n",
    "train = folds[0]\n",
    "test = folds[1]"
   ]
  },
  {
   "cell_type": "code",
   "execution_count": 155,
   "metadata": {},
   "outputs": [],
   "source": [
    "USER_REQUEST = \"\"\"You are an expert lawyer tasked with classifying various cases into three differents category based on the case description.\n",
    "\n",
    "Case description: '[CASE]'\n",
    "\n",
    "The possible categories values are : 'Civil', 'Criminal' or 'Public'. You must select only one of these possible values.\n",
    "\n",
    "The answer should be a json structured as follow;\n",
    "\n",
    "{'case_category': predicted category}\n",
    "\"\"\""
   ]
  },
  {
   "cell_type": "code",
   "execution_count": 164,
   "metadata": {},
   "outputs": [],
   "source": [
    "finetuning_dataset = [\n",
    "    {\n",
    "        \"messages\": [\n",
    "            {\n",
    "                \"role\": \"user\",\n",
    "                \"content\": USER_REQUEST.replace(\"[CASE]\", case[\"generated_scenario\"]).replace(\"\\\"\", \"\\'\")\n",
    "            },\n",
    "            {\n",
    "                \"role\": \"assistant\",\n",
    "                \"content\": \"{'case_category': '[LABEL]'}\".replace(\"[LABEL]\", case[\"division_type\"])\n",
    "            }\n",
    "        ]\n",
    "    } for case in scenarios\n",
    "]"
   ]
  },
  {
   "cell_type": "code",
   "execution_count": 166,
   "metadata": {},
   "outputs": [],
   "source": [
    "test_split = [finetuning_dataset[idx] for idx in test]\n",
    "train_split = [finetuning_dataset[idx] for idx in train]"
   ]
  },
  {
   "cell_type": "code",
   "execution_count": 175,
   "metadata": {},
   "outputs": [],
   "source": [
    "with open(\"training_file.jsonl\", \"w\") as f:\n",
    "    for item in train_split:\n",
    "        json.dump(item, f)\n",
    "        f.write('\\n')"
   ]
  },
  {
   "cell_type": "code",
   "execution_count": 176,
   "metadata": {},
   "outputs": [],
   "source": [
    "# upload the training dataset\n",
    "with open(\"training_file.jsonl\", \"rb\") as f:\n",
    "    training_data = client.files.create(file=(\"training_file.jsonl\", f))    "
   ]
  },
  {
   "cell_type": "code",
   "execution_count": 182,
   "metadata": {},
   "outputs": [
    {
     "data": {
      "text/plain": [
       "Job(id='9f2401ad-f403-4492-b46a-66cacee13ca1', hyperparameters=TrainingParameters(training_steps=10, learning_rate=0.0001), fine_tuned_model=None, model='open-mistral-7b', status='QUEUED', job_type='FT', created_at=1719593037, modified_at=1719593037, training_files=['8bc72522-2910-4427-af06-4ebee54a94ff'], validation_files=[], object='job', integrations=[])"
      ]
     },
     "execution_count": 182,
     "metadata": {},
     "output_type": "execute_result"
    }
   ],
   "source": [
    "# create the finetuning job\n",
    "created_jobs = client.jobs.create(\n",
    "    model=\"open-mistral-7b\",\n",
    "    training_files=[training_data.id],\n",
    "    hyperparameters=TrainingParameters(\n",
    "        training_steps=10,\n",
    "        learning_rate=0.0001,\n",
    "        )\n",
    ")\n",
    "created_jobs"
   ]
  },
  {
   "cell_type": "code",
   "execution_count": 184,
   "metadata": {},
   "outputs": [
    {
     "name": "stdout",
     "output_type": "stream",
     "text": [
      "id='9f2401ad-f403-4492-b46a-66cacee13ca1' hyperparameters=TrainingParameters(training_steps=10, learning_rate=0.0001) fine_tuned_model='ft:open-mistral-7b:41dfebed:20240628:9f2401ad' model='open-mistral-7b' status='SUCCESS' job_type='FT' created_at=1719593037 modified_at=1719593133 training_files=['8bc72522-2910-4427-af06-4ebee54a94ff'] validation_files=[] object='job' integrations=[] events=[Event(name='status-updated', data={'status': 'SUCCESS'}, created_at=1719593133), Event(name='status-updated', data={'status': 'RUNNING'}, created_at=1719593039), Event(name='status-updated', data={'status': 'QUEUED'}, created_at=1719593037)] checkpoints=[Checkpoint(metrics=Metric(train_loss=0.059678, valid_loss=None, valid_mean_token_accuracy=None), step_number=10, created_at=1719593109)] estimated_start_time=None\n"
     ]
    }
   ],
   "source": [
    "# retrieve the jobs\n",
    "retrieved_jobs = client.jobs.retrieve(created_jobs.id)\n",
    "print(retrieved_jobs)"
   ]
  },
  {
   "cell_type": "code",
   "execution_count": 188,
   "metadata": {},
   "outputs": [
    {
     "data": {
      "text/plain": [
       "'ft:open-mistral-7b:41dfebed:20240628:9f2401ad'"
      ]
     },
     "execution_count": 188,
     "metadata": {},
     "output_type": "execute_result"
    }
   ],
   "source": [
    "# finetuned model name\n",
    "retrieved_jobs.fine_tuned_model"
   ]
  },
  {
   "cell_type": "code",
   "execution_count": 213,
   "metadata": {},
   "outputs": [],
   "source": [
    "all_preds = {}\n",
    "for model_name in [retrieved_jobs.fine_tuned_model, \"open-mistral-7b\"]:\n",
    "    model_preds = []\n",
    "    for case in test_split:\n",
    "        model_preds.append(\n",
    "            client.chat(\n",
    "                model=model_name,\n",
    "                messages=[ChatMessage(**case[\"messages\"][0])]\n",
    "            )\n",
    "        )\n",
    "    all_preds[model_name] = model_preds"
   ]
  },
  {
   "cell_type": "code",
   "execution_count": 215,
   "metadata": {},
   "outputs": [],
   "source": [
    "truth = [eval(entry[\"messages\"][-1][\"content\"])[\"case_category\"] for entry in test_split]\n",
    "preds_finetuned = [parse_answer(answer) for answer in all_preds['ft:open-mistral-7b:41dfebed:20240628:9f2401ad']]\n",
    "preds_raw = [parse_answer(answer) for answer in all_preds[\"open-mistral-7b\"]]"
   ]
  },
  {
   "cell_type": "code",
   "execution_count": 217,
   "metadata": {},
   "outputs": [
    {
     "name": "stdout",
     "output_type": "stream",
     "text": [
      "accuracy 0.7099099099099099\n"
     ]
    },
    {
     "data": {
      "image/png": "[encoded data removed]",
      "text/plain": [
       "<Figure size 640x480 with 2 Axes>"
      ]
     },
     "metadata": {},
     "output_type": "display_data"
    }
   ],
   "source": [
    "ConfusionMatrixDisplay.from_predictions(\n",
    "        y_true=truth,\n",
    "        y_pred=preds_finetuned,\n",
    "        labels = [\"Civil\", \"Public\", \"Criminal\"]\n",
    "    )\n",
    "print(\"accuracy\", accuracy_score(truth, preds_finetuned))"
   ]
  },
  {
   "cell_type": "code",
   "execution_count": 218,
   "metadata": {},
   "outputs": [
    {
     "name": "stdout",
     "output_type": "stream",
     "text": [
      "accuracy 0.5459459459459459\n"
     ]
    },
    {
     "data": {
      "image/png": "[encoded data removed]",
      "text/plain": [
       "<Figure size 640x480 with 2 Axes>"
      ]
     },
     "metadata": {},
     "output_type": "display_data"
    }
   ],
   "source": [
    "ConfusionMatrixDisplay.from_predictions(\n",
    "        y_true=truth,\n",
    "        y_pred=preds_raw,\n",
    "        labels = [\"Civil\", \"Public\", \"Criminal\"]\n",
    "    )\n",
    "print(\"accuracy\", accuracy_score(truth, preds_raw))"
   ]
  },
  {
   "cell_type": "code",
   "execution_count": 231,
   "metadata": {},
   "outputs": [],
   "source": [
    "with open(\"finetuned_classif_pred.json\", \"w\") as f:\n",
    "    for item in all_preds['ft:open-mistral-7b:41dfebed:20240628:9f2401ad']:\n",
    "        json.dump(item.choices[0].message.content, f)\n",
    "        f.write('\\n')"
   ]
  },
  {
   "cell_type": "code",
   "execution_count": 232,
   "metadata": {},
   "outputs": [],
   "source": [
    "with open(\"7b_classif_pred.json\", \"w\") as f:\n",
    "    for item in all_preds['open-mistral-7b']:\n",
    "        json.dump(item.choices[0].message.content, f)\n",
    "        f.write('\\n')"
   ]
  }
 ],
 "metadata": {
  "kernelspec": {
   "display_name": "Python (Claim)",
   "language": "python",
   "name": "claim-llm-eval"
  },
  "language_info": {
   "codemirror_mode": {
    "name": "ipython",
    "version": 3
   },
   "file_extension": ".py",
   "mimetype": "text/x-python",
   "name": "python",
   "nbconvert_exporter": "python",
   "pygments_lexer": "ipython3",
   "version": "3.12.2"
  }
 },
 "nbformat": 4,
 "nbformat_minor": 2
}
